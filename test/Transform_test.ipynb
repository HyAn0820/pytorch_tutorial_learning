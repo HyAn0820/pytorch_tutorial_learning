{
 "cells": [
  {
   "cell_type": "code",
   "execution_count": 1,
   "id": "a4de4528",
   "metadata": {},
   "outputs": [],
   "source": [
    "# 데이터를 학습에 적합하게 변형(transform)\n",
    "\n",
    "# 데이터마다 변형 도구가 다름\n",
    "\n",
    "import torch\n",
    "from torchvision import datasets\n",
    "from torchvision.transforms import ToTensor, Lambda"
   ]
  },
  {
   "cell_type": "code",
   "execution_count": 7,
   "id": "7f3f2173",
   "metadata": {},
   "outputs": [],
   "source": [
    "# 원핫인코딩\n",
    "\n",
    "ds =datasets.FashionMNIST(\n",
    "    root=\"data\",\n",
    "    train=True,\n",
    "    download=True,\n",
    "    \n",
    "    # PIL image나 Numpy ndarray를 floatTensor로 변환하고, 이미지 픽셀의 크기를 [0.,1.] 범위로 비례하여 조정\n",
    "    transform=ToTensor(),\n",
    "    \n",
    "    # 여기서 이 람다 함수는 정수를 원핫으로 부호화된 텐서로 바꿈, 데이터셋 정답 개수의 0 tensor 만들고 scatter로 정답 y에 1 할당\n",
    "    target_transform=Lambda(lambda y: torch.zeros(10, dtype=torch.float).scatter_(0, torch.tensor(y), value=1))\n",
    ")"
   ]
  },
  {
   "cell_type": "code",
   "execution_count": null,
   "id": "7a167f06",
   "metadata": {},
   "outputs": [],
   "source": []
  }
 ],
 "metadata": {
  "kernelspec": {
   "display_name": "Python 3 (ipykernel)",
   "language": "python",
   "name": "python3"
  },
  "language_info": {
   "codemirror_mode": {
    "name": "ipython",
    "version": 3
   },
   "file_extension": ".py",
   "mimetype": "text/x-python",
   "name": "python",
   "nbconvert_exporter": "python",
   "pygments_lexer": "ipython3",
   "version": "3.9.7"
  }
 },
 "nbformat": 4,
 "nbformat_minor": 5
}
