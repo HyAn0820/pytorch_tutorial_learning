{
 "cells": [
  {
   "cell_type": "code",
   "execution_count": 1,
   "id": "d70fbbd5",
   "metadata": {},
   "outputs": [],
   "source": [
    "import os\n",
    "import torch\n",
    "from torch import nn\n",
    "from torch.utils.data import DataLoader\n",
    "from torchvision import datasets, transforms"
   ]
  },
  {
   "cell_type": "code",
   "execution_count": 4,
   "id": "5212068d",
   "metadata": {},
   "outputs": [
    {
     "name": "stdout",
     "output_type": "stream",
     "text": [
      "Using cpu device\n"
     ]
    }
   ],
   "source": [
    "device = 'cuda' if torch.cuda.is_available() else 'cpu' # cuda 사용가능한지\n",
    "print(f'Using {device} device')"
   ]
  },
  {
   "cell_type": "code",
   "execution_count": 5,
   "id": "6bbf7ee7",
   "metadata": {},
   "outputs": [],
   "source": [
    "class NeuralNetwork(nn.Module):\n",
    "    def __init__(self):\n",
    "        super(NeuralNetwork, self).__init__() # super함수: 자식 클래스에서 부모 클래스 사용\n",
    "        self.flatten = nn.Flatten() # reshape를 모델 내에서 동작시켜주는 것, 행렬을 배열로 바꿈\n",
    "        self.linear_relu_stack = nn.Sequential( # 계층을 선형으로 쌓는 모델?\n",
    "            nn.Linear(28*28, 512),\n",
    "            nn.ReLU(), # (x<0, 0, x>0, x)\n",
    "            nn.Linear(512, 512),\n",
    "            nn.ReLU(),\n",
    "            nn.Linear(512, 10)\n",
    "        )\n",
    "    \n",
    "    # 입력데이터에 대한 연산 구현\n",
    "    \n",
    "    def forward(self, x): \n",
    "        x = self.flatten(x)\n",
    "        logits = self.linear_relu_stack(x) # \n",
    "        return logits"
   ]
  },
  {
   "cell_type": "code",
   "execution_count": 6,
   "id": "4093e14d",
   "metadata": {},
   "outputs": [
    {
     "name": "stdout",
     "output_type": "stream",
     "text": [
      "NeuralNetwork(\n",
      "  (flatten): Flatten(start_dim=1, end_dim=-1)\n",
      "  (linear_relu_stack): Sequential(\n",
      "    (0): Linear(in_features=784, out_features=512, bias=True)\n",
      "    (1): ReLU()\n",
      "    (2): Linear(in_features=512, out_features=512, bias=True)\n",
      "    (3): ReLU()\n",
      "    (4): Linear(in_features=512, out_features=10, bias=True)\n",
      "  )\n",
      ")\n"
     ]
    }
   ],
   "source": [
    "model = NeuralNetwork().to(device) # 인공신경망의 인스턴스를 device로 이동\n",
    "print(model) #구조 출력"
   ]
  },
  {
   "cell_type": "code",
   "execution_count": 8,
   "id": "018ed264",
   "metadata": {},
   "outputs": [
    {
     "name": "stdout",
     "output_type": "stream",
     "text": [
      "Predictaed class: tensor([3])\n"
     ]
    }
   ],
   "source": [
    "X = torch.rand(1, 28, 28, device=device)\n",
    "logits = model(X) # 모델에 입력, 각 class에 대한 원시(raw) 예측값이 있는 10-차원 텐서 반환\n",
    "pred_probab = nn.Softmax(dim=1)(logits) # sofmax는 분류에 쓰는 활성화 함수, 0부터 1사이의 실수로 출력, 확률로 표현가능\n",
    "y_pred = pred_probab.argmax(1)\n",
    "print(f\"Predictaed class: {y_pred}\")"
   ]
  },
  {
   "cell_type": "code",
   "execution_count": 10,
   "id": "d713c647",
   "metadata": {},
   "outputs": [
    {
     "name": "stdout",
     "output_type": "stream",
     "text": [
      "torch.Size([3, 28, 28])\n"
     ]
    }
   ],
   "source": [
    "input_image = torch.rand(3,28,28) # 28*28 크기의 이미지 3개\n",
    "print(input_image.size())"
   ]
  },
  {
   "cell_type": "code",
   "execution_count": 12,
   "id": "69c9a1f6",
   "metadata": {},
   "outputs": [
    {
     "name": "stdout",
     "output_type": "stream",
     "text": [
      "torch.Size([3, 784])\n"
     ]
    }
   ],
   "source": [
    "flatten = nn.Flatten() # nn.Flatten 계층 초기화\n",
    "flat_image = flatten(input_image) # 28X28의 2D 이미지를 784 픽셀 값의 연속된 배열로 변환\n",
    "print(flat_image.size()) "
   ]
  },
  {
   "cell_type": "code",
   "execution_count": 14,
   "id": "18e94a1c",
   "metadata": {},
   "outputs": [
    {
     "name": "stdout",
     "output_type": "stream",
     "text": [
      "torch.Size([3, 20])\n"
     ]
    }
   ],
   "source": [
    "# weight와 bias를 이용해서 입력에 선형 변환을 적용\n",
    "\n",
    "layer1 = nn.Linear(in_features=28*28, out_features=20) # 입력의 차원, 출력의 차원(28*28 의 입력에 20의 출력)\n",
    "hidden1 = layer1(flat_image) # hidden에 layer1 배열 저장\n",
    "print(hidden1.size())"
   ]
  },
  {
   "cell_type": "code",
   "execution_count": 15,
   "id": "d6b4db01",
   "metadata": {},
   "outputs": [
    {
     "name": "stdout",
     "output_type": "stream",
     "text": [
      "Before ReLU: tensor([[-0.2506,  0.5663,  0.0989,  0.0360, -0.3089, -0.0369, -0.0620,  0.2613,\n",
      "         -0.0835, -0.5532,  0.7165, -0.2788,  0.3703,  0.4521, -0.3496, -0.0682,\n",
      "         -0.0070,  0.2308, -0.0097,  0.0367],\n",
      "        [-0.2743,  0.3305,  0.0526, -0.0312, -0.0675, -0.2042, -0.1554,  0.2646,\n",
      "         -0.6164, -0.4548,  0.6736, -0.3767,  0.0754,  0.1100, -0.2118,  0.1009,\n",
      "          0.2345,  0.1904, -0.1883,  0.2789],\n",
      "        [-0.2841,  0.7093,  0.1378,  0.1426, -0.5160,  0.0334, -0.1894,  0.3681,\n",
      "         -0.3065, -0.6643,  0.5256, -0.2598,  0.1597,  0.2538, -0.2637,  0.0342,\n",
      "          0.5077,  0.5076, -0.1487, -0.1477]], grad_fn=<AddmmBackward0>)\n",
      "\n",
      "\n",
      "After ReLU: tensor([[0.0000, 0.5663, 0.0989, 0.0360, 0.0000, 0.0000, 0.0000, 0.2613, 0.0000,\n",
      "         0.0000, 0.7165, 0.0000, 0.3703, 0.4521, 0.0000, 0.0000, 0.0000, 0.2308,\n",
      "         0.0000, 0.0367],\n",
      "        [0.0000, 0.3305, 0.0526, 0.0000, 0.0000, 0.0000, 0.0000, 0.2646, 0.0000,\n",
      "         0.0000, 0.6736, 0.0000, 0.0754, 0.1100, 0.0000, 0.1009, 0.2345, 0.1904,\n",
      "         0.0000, 0.2789],\n",
      "        [0.0000, 0.7093, 0.1378, 0.1426, 0.0000, 0.0334, 0.0000, 0.3681, 0.0000,\n",
      "         0.0000, 0.5256, 0.0000, 0.1597, 0.2538, 0.0000, 0.0342, 0.5077, 0.5076,\n",
      "         0.0000, 0.0000]], grad_fn=<ReluBackward0>)\n"
     ]
    }
   ],
   "source": [
    "# 비선형 활성화 (선형 변형 후 적용, nonlinearity 도입)\n",
    "print(f\"Before ReLU: {hidden1}\\n\\n\")\n",
    "hidden1 = nn.ReLU()(hidden1)\n",
    "print(f\"After ReLU: {hidden1}\")\n"
   ]
  },
  {
   "cell_type": "code",
   "execution_count": null,
   "id": "1824b741",
   "metadata": {},
   "outputs": [],
   "source": []
  }
 ],
 "metadata": {
  "kernelspec": {
   "display_name": "Python 3 (ipykernel)",
   "language": "python",
   "name": "python3"
  },
  "language_info": {
   "codemirror_mode": {
    "name": "ipython",
    "version": 3
   },
   "file_extension": ".py",
   "mimetype": "text/x-python",
   "name": "python",
   "nbconvert_exporter": "python",
   "pygments_lexer": "ipython3",
   "version": "3.9.7"
  }
 },
 "nbformat": 4,
 "nbformat_minor": 5
}
