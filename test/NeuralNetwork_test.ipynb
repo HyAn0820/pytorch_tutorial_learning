{
 "cells": [
  {
   "cell_type": "code",
   "execution_count": 1,
   "id": "d70fbbd5",
   "metadata": {},
   "outputs": [],
   "source": [
    "import os\n",
    "import torch\n",
    "from torch import nn\n",
    "from torch.utils.data import DataLoader\n",
    "from torchvision import datasets, transforms"
   ]
  },
  {
   "cell_type": "code",
   "execution_count": 2,
   "id": "5212068d",
   "metadata": {},
   "outputs": [
    {
     "name": "stdout",
     "output_type": "stream",
     "text": [
      "Using cpu device\n"
     ]
    }
   ],
   "source": [
    "device = 'cuda' if torch.cuda.is_available() else 'cpu' # cuda 사용가능한지\n",
    "print(f'Using {device} device')"
   ]
  },
  {
   "cell_type": "code",
   "execution_count": 3,
   "id": "6bbf7ee7",
   "metadata": {},
   "outputs": [],
   "source": [
    "class NeuralNetwork(nn.Module):\n",
    "    def __init__(self):\n",
    "        super(NeuralNetwork, self).__init__() # super함수: 자식 클래스에서 부모 클래스 사용\n",
    "        self.flatten = nn.Flatten() # reshape를 모델 내에서 동작시켜주는 것, 행렬을 배열로 바꿈\n",
    "        self.linear_relu_stack = nn.Sequential( # 계층을 선형으로 쌓는 모델?\n",
    "            nn.Linear(28*28, 512),\n",
    "            nn.ReLU(), # (x<0, 0, x>0, x)\n",
    "            nn.Linear(512, 512),\n",
    "            nn.ReLU(),\n",
    "            nn.Linear(512, 10)\n",
    "        )\n",
    "    \n",
    "    # 입력데이터에 대한 연산 구현\n",
    "    \n",
    "    def forward(self, x): \n",
    "        x = self.flatten(x)\n",
    "        logits = self.linear_relu_stack(x) # \n",
    "        return logits"
   ]
  },
  {
   "cell_type": "code",
   "execution_count": 4,
   "id": "4093e14d",
   "metadata": {},
   "outputs": [
    {
     "name": "stdout",
     "output_type": "stream",
     "text": [
      "NeuralNetwork(\n",
      "  (flatten): Flatten(start_dim=1, end_dim=-1)\n",
      "  (linear_relu_stack): Sequential(\n",
      "    (0): Linear(in_features=784, out_features=512, bias=True)\n",
      "    (1): ReLU()\n",
      "    (2): Linear(in_features=512, out_features=512, bias=True)\n",
      "    (3): ReLU()\n",
      "    (4): Linear(in_features=512, out_features=10, bias=True)\n",
      "  )\n",
      ")\n"
     ]
    }
   ],
   "source": [
    "model = NeuralNetwork().to(device) # 인공신경망의 인스턴스를 device로 이동\n",
    "print(model) #구조 출력"
   ]
  },
  {
   "cell_type": "code",
   "execution_count": 5,
   "id": "018ed264",
   "metadata": {},
   "outputs": [
    {
     "name": "stdout",
     "output_type": "stream",
     "text": [
      "Predictaed class: tensor([6])\n"
     ]
    }
   ],
   "source": [
    "X = torch.rand(1, 28, 28, device=device)\n",
    "logits = model(X) # 모델에 입력, 각 class에 대한 원시(raw) 예측값이 있는 10-차원 텐서 반환\n",
    "pred_probab = nn.Softmax(dim=1)(logits) # sofmax는 분류에 쓰는 활성화 함수, 0부터 1사이의 실수로 출력, 확률로 표현가능\n",
    "y_pred = pred_probab.argmax(1)\n",
    "print(f\"Predictaed class: {y_pred}\")"
   ]
  },
  {
   "cell_type": "code",
   "execution_count": 6,
   "id": "d713c647",
   "metadata": {},
   "outputs": [
    {
     "name": "stdout",
     "output_type": "stream",
     "text": [
      "torch.Size([3, 28, 28])\n"
     ]
    }
   ],
   "source": [
    "input_image = torch.rand(3,28,28) # 28*28 크기의 이미지 3개\n",
    "print(input_image.size())"
   ]
  },
  {
   "cell_type": "code",
   "execution_count": 7,
   "id": "69c9a1f6",
   "metadata": {},
   "outputs": [
    {
     "name": "stdout",
     "output_type": "stream",
     "text": [
      "torch.Size([3, 784])\n"
     ]
    }
   ],
   "source": [
    "flatten = nn.Flatten() # nn.Flatten 계층 초기화\n",
    "flat_image = flatten(input_image) # 28X28의 2D 이미지를 784 픽셀 값의 연속된 배열로 변환\n",
    "print(flat_image.size()) "
   ]
  },
  {
   "cell_type": "code",
   "execution_count": 8,
   "id": "18e94a1c",
   "metadata": {},
   "outputs": [
    {
     "name": "stdout",
     "output_type": "stream",
     "text": [
      "torch.Size([3, 20])\n"
     ]
    }
   ],
   "source": [
    "# weight와 bias를 이용해서 입력에 선형 변환을 적용\n",
    "\n",
    "layer1 = nn.Linear(in_features=28*28, out_features=20) # 입력의 차원, 출력의 차원(28*28 의 입력에 20의 출력)\n",
    "hidden1 = layer1(flat_image) # hidden에 layer1 배열 저장\n",
    "print(hidden1.size())"
   ]
  },
  {
   "cell_type": "code",
   "execution_count": 9,
   "id": "d6b4db01",
   "metadata": {},
   "outputs": [
    {
     "name": "stdout",
     "output_type": "stream",
     "text": [
      "Before ReLU: tensor([[-0.3267,  0.1014, -0.1288, -0.1254,  0.1242, -0.0505,  0.4409,  0.3579,\n",
      "          0.4032, -0.3803, -0.3605,  0.1310,  0.0701,  0.1179,  0.1117, -0.3050,\n",
      "          0.3901,  0.1579,  0.2031, -0.3529],\n",
      "        [-0.1205, -0.0125, -0.3094, -0.2263,  0.3067,  0.2154,  0.3615,  0.1556,\n",
      "         -0.0759, -0.3906, -0.3138,  0.0128,  0.0030,  0.1311,  0.0769, -0.2788,\n",
      "          0.6185, -0.0852, -0.3457, -0.1796],\n",
      "        [-0.1228, -0.0498, -0.2498,  0.2665,  0.3305,  0.2559,  0.4961,  0.0212,\n",
      "          0.1273, -0.5265, -0.4330, -0.2544,  0.0333, -0.1726,  0.2747, -0.1550,\n",
      "          0.4374, -0.0291, -0.2057, -0.2920]], grad_fn=<AddmmBackward0>)\n",
      "\n",
      "\n",
      "After ReLU: tensor([[0.0000, 0.1014, 0.0000, 0.0000, 0.1242, 0.0000, 0.4409, 0.3579, 0.4032,\n",
      "         0.0000, 0.0000, 0.1310, 0.0701, 0.1179, 0.1117, 0.0000, 0.3901, 0.1579,\n",
      "         0.2031, 0.0000],\n",
      "        [0.0000, 0.0000, 0.0000, 0.0000, 0.3067, 0.2154, 0.3615, 0.1556, 0.0000,\n",
      "         0.0000, 0.0000, 0.0128, 0.0030, 0.1311, 0.0769, 0.0000, 0.6185, 0.0000,\n",
      "         0.0000, 0.0000],\n",
      "        [0.0000, 0.0000, 0.0000, 0.2665, 0.3305, 0.2559, 0.4961, 0.0212, 0.1273,\n",
      "         0.0000, 0.0000, 0.0000, 0.0333, 0.0000, 0.2747, 0.0000, 0.4374, 0.0000,\n",
      "         0.0000, 0.0000]], grad_fn=<ReluBackward0>)\n"
     ]
    }
   ],
   "source": [
    "# 비선형 활성화 (선형 변형 후 적용, nonlinearity 도입)\n",
    "print(f\"Before ReLU: {hidden1}\\n\\n\")\n",
    "hidden1 = nn.ReLU()(hidden1)\n",
    "print(f\"After ReLU: {hidden1}\")\n"
   ]
  },
  {
   "cell_type": "code",
   "execution_count": 10,
   "id": "1824b741",
   "metadata": {},
   "outputs": [],
   "source": [
    "# 정의된 데이터 순서대로 모든 모듈을 통해 전달\n",
    "\n",
    "seq_modules = nn.Sequential(\n",
    "    flatten,\n",
    "    layer1,\n",
    "    nn.ReLU(),\n",
    "    nn.Linear(20,10)\n",
    ")\n",
    "\n",
    "input_image = torch.rand(3,28,28)\n",
    "logits = seq_modules(input_image)"
   ]
  },
  {
   "cell_type": "code",
   "execution_count": 11,
   "id": "d6c21dd7",
   "metadata": {},
   "outputs": [],
   "source": [
    "softmax = nn.Softmax(dim=1) # dim은 합이 1이 되는 차원을 나타냄\n",
    "pred_probab = softmax(logits) # pred_probab은 [0,1] 범위"
   ]
  },
  {
   "cell_type": "code",
   "execution_count": 12,
   "id": "96e43e2b",
   "metadata": {},
   "outputs": [
    {
     "name": "stdout",
     "output_type": "stream",
     "text": [
      "Model structure:  NeuralNetwork(\n",
      "  (flatten): Flatten(start_dim=1, end_dim=-1)\n",
      "  (linear_relu_stack): Sequential(\n",
      "    (0): Linear(in_features=784, out_features=512, bias=True)\n",
      "    (1): ReLU()\n",
      "    (2): Linear(in_features=512, out_features=512, bias=True)\n",
      "    (3): ReLU()\n",
      "    (4): Linear(in_features=512, out_features=10, bias=True)\n",
      "  )\n",
      ") \n",
      "\n",
      "\n",
      "Layer: linear_relu_stack.0.weight | Size: <built-in method size of Parameter object at 0x000001E191CE99A0> | Values : tensor([[-0.0216, -0.0326, -0.0051,  ...,  0.0219,  0.0136,  0.0158],\n",
      "        [-0.0187,  0.0263,  0.0102,  ...,  0.0004,  0.0118, -0.0292]],\n",
      "       grad_fn=<SliceBackward0>) \n",
      "\n",
      "Layer: linear_relu_stack.0.bias | Size: <built-in method size of Parameter object at 0x000001E191CE9C20> | Values : tensor([-0.0045,  0.0024], grad_fn=<SliceBackward0>) \n",
      "\n",
      "Layer: linear_relu_stack.2.weight | Size: <built-in method size of Parameter object at 0x000001E191CE9BD0> | Values : tensor([[ 0.0339,  0.0388,  0.0342,  ...,  0.0058, -0.0142, -0.0265],\n",
      "        [-0.0376, -0.0274, -0.0255,  ..., -0.0036,  0.0199,  0.0415]],\n",
      "       grad_fn=<SliceBackward0>) \n",
      "\n",
      "Layer: linear_relu_stack.2.bias | Size: <built-in method size of Parameter object at 0x000001E191CE9860> | Values : tensor([-0.0071, -0.0208], grad_fn=<SliceBackward0>) \n",
      "\n",
      "Layer: linear_relu_stack.4.weight | Size: <built-in method size of Parameter object at 0x000001E191CE9E50> | Values : tensor([[-0.0288, -0.0233,  0.0273,  ...,  0.0231, -0.0182, -0.0434],\n",
      "        [ 0.0180,  0.0292,  0.0370,  ...,  0.0087,  0.0367,  0.0119]],\n",
      "       grad_fn=<SliceBackward0>) \n",
      "\n",
      "Layer: linear_relu_stack.4.bias | Size: <built-in method size of Parameter object at 0x000001E191CE91D0> | Values : tensor([ 0.0118, -0.0210], grad_fn=<SliceBackward0>) \n",
      "\n"
     ]
    }
   ],
   "source": [
    "# 신경망(model) 출력\n",
    "\n",
    "print(\"Model structure: \", model, \"\\n\\n\")\n",
    "\n",
    "# 신경망 내 매개변수(가중치, 편향) 크기와 값 출력\n",
    "\n",
    "for name, param in model.named_parameters():\n",
    "    print(f\"Layer: {name} | Size: {param.size} | Values : {param[:2]} \\n\")"
   ]
  },
  {
   "cell_type": "code",
   "execution_count": 13,
   "id": "082ec758",
   "metadata": {},
   "outputs": [],
   "source": []
  }
 ],
 "metadata": {
  "kernelspec": {
   "display_name": "Python 3 (ipykernel)",
   "language": "python",
   "name": "python3"
  },
  "language_info": {
   "codemirror_mode": {
    "name": "ipython",
    "version": 3
   },
   "file_extension": ".py",
   "mimetype": "text/x-python",
   "name": "python",
   "nbconvert_exporter": "python",
   "pygments_lexer": "ipython3",
   "version": "3.9.7"
  }
 },
 "nbformat": 4,
 "nbformat_minor": 5
}
